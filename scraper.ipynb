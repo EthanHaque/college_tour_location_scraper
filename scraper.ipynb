{
 "cells": [
  {
   "cell_type": "markdown",
   "metadata": {},
   "source": [
    "# College Tour Information Scraper\n",
    "\n",
    "Gathers information from the https://www.youvisit.com/collegesearch/ website\n",
    "\n"
   ]
  },
  {
   "cell_type": "markdown",
   "metadata": {},
   "source": [
    "### Messing around with the API\n",
    "\n",
    "There are open API endpoints that we can exploit"
   ]
  },
  {
   "cell_type": "markdown",
   "metadata": {},
   "source": [
    "Getting the university id (which gets us the direct link) to each of the colleges"
   ]
  },
  {
   "cell_type": "code",
   "execution_count": 1,
   "metadata": {},
   "outputs": [],
   "source": [
    "import requests\n",
    "import json\n",
    "import math\n",
    "from tqdm import tqdm"
   ]
  },
  {
   "cell_type": "code",
   "execution_count": 2,
   "metadata": {},
   "outputs": [],
   "source": [
    "link = r\"https://search.youvisit.com/institution-profiles?size=1&page=0\"\n",
    "header = {'User-Agent': 'Mozilla/5.0 (Macintosh; Intel Mac OS X 10_10_1) AppleWebKit/537.36 (KHTML, like Gecko) Chrome/39.0.2171.95 Safari/537.36'}\n",
    "response = requests.get(link, headers = header)"
   ]
  },
  {
   "cell_type": "code",
   "execution_count": 3,
   "metadata": {},
   "outputs": [],
   "source": [
    "json_response = json.loads(response.text)\n",
    "total_schools = json_response[\"data\"][\"totalRecords\"]\n",
    "# assume a default page size of 10 items\n",
    "total_pages = math.ceil(total_schools / 10)"
   ]
  },
  {
   "cell_type": "code",
   "execution_count": 5,
   "metadata": {
    "scrolled": true
   },
   "outputs": [
    {
     "name": "stderr",
     "output_type": "stream",
     "text": [
      "100%|████████████████████████████████████████████████████████████████████████████████| 826/826 [01:34<00:00,  8.73it/s]\n"
     ]
    }
   ],
   "source": [
    "univeristy_ids = []\n",
    "for page_no in tqdm(range(total_pages)):\n",
    "    link = r\"https://search.youvisit.com/institution-profiles?size=10&page={}\".format(page_no)\n",
    "    r = requests.get(link, headers = header)\n",
    "    json_r = json.loads(r.text)\n",
    "    records = json_r[\"data\"][\"records\"]\n",
    "    for record in records:\n",
    "        if record[\"has_virtual_tour\"]:\n",
    "            univeristy_ids.append(record[\"inst_id\"])"
   ]
  },
  {
   "cell_type": "code",
   "execution_count": 9,
   "metadata": {
    "scrolled": true
   },
   "outputs": [
    {
     "name": "stdout",
     "output_type": "stream",
     "text": [
      "out of the total number of schools: 8260, only 647 had tours.\n"
     ]
    }
   ],
   "source": [
    "print(\"out of the total number of schools: {}, only {} had tours.\".format(total_schools, len(univeristy_ids)))"
   ]
  },
  {
   "cell_type": "code",
   "execution_count": 193,
   "metadata": {},
   "outputs": [],
   "source": [
    "from selenium import webdriver\n",
    "from selenium.webdriver.common.by import By\n",
    "from selenium.webdriver.support.ui import WebDriverWait\n",
    "from selenium.webdriver.support import expected_conditions as EC\n",
    "from selenium.webdriver.common.keys import Keys"
   ]
  },
  {
   "cell_type": "code",
   "execution_count": 11,
   "metadata": {},
   "outputs": [],
   "source": [
    "DRIVER_PATH = \"./chromedriver\"\n",
    "WEBSITE_URL = \"https://www.youvisit.com/collegesearch/\""
   ]
  },
  {
   "cell_type": "code",
   "execution_count": 12,
   "metadata": {},
   "outputs": [],
   "source": [
    "def wait_for_element(by_selector, selector, seconds=10):\n",
    "    \"\"\"\n",
    "    Takes in a selector type and a selector and waits for the element to load on the page.\n",
    "    \n",
    "    :param: by_selector The method to use for selecting.\n",
    "    :param: selector The string selector to use.\n",
    "    :param: seconds How long to wait until a timeout is thrown.\n",
    "    \"\"\"\n",
    "    try:\n",
    "        item = WebDriverWait(driver, seconds).until(\n",
    "            EC.presence_of_element_located((by_selector, selector)))\n",
    "    except Exception:\n",
    "        raise Exception(\"Could not find the specified selector '{}' using '{}'\".format(selector, by_selector))\n",
    "        \n",
    "    return item"
   ]
  },
  {
   "cell_type": "code",
   "execution_count": 13,
   "metadata": {},
   "outputs": [],
   "source": [
    "def click_on_element_from_selector(by_selector, selector, seconds=10):\n",
    "    \"\"\"\n",
    "    Helper function to take a element and click on it.\n",
    "    \n",
    "    :param: by_selector The method to use for selecting.\n",
    "    :param: selector The string selector to use.\n",
    "    :param: seconds How long to wait until a timeout is thrown.\n",
    "    \"\"\"\n",
    "    element = wait_for_element(by_selector, selector, seconds=10)\n",
    "    element.click()"
   ]
  },
  {
   "cell_type": "code",
   "execution_count": 14,
   "metadata": {},
   "outputs": [],
   "source": [
    "def send_keys_to_element_from_selector(by_selector, selector, text, seconds=10):\n",
    "    \"\"\"\n",
    "    Helper funciton to take an element and send it key inputs.\n",
    "    \n",
    "    :param: by_selector The method to use for selecting.\n",
    "    :param: selector The string selector to use.\n",
    "    :param: text The string to send as input.\n",
    "    :param: seconds How long to wait until a timeout is thrown.\n",
    "    \"\"\"\n",
    "    element = wait_for_element(by_selector, selector, seconds=10)\n",
    "    element.send_keys(text)"
   ]
  },
  {
   "cell_type": "markdown",
   "metadata": {},
   "source": [
    "### Logging into the website\n",
    "\n",
    "After digging around through the network traffic I found a way to avoid having to log in and get the links directly to each of the tour pages using an open API endpoint, but it still makes things easier"
   ]
  },
  {
   "cell_type": "code",
   "execution_count": 174,
   "metadata": {},
   "outputs": [],
   "source": [
    "driver = webdriver.Chrome(DRIVER_PATH)\n",
    "driver.get(WEBSITE_URL)\n",
    "account_button_xpath = r\"//*[@id='yv.com-cs-root']/div[1]/div[2]/div[1]/div[2]/button\"\n",
    "click_on_element_from_selector(By.XPATH, account_button_xpath, seconds=10)"
   ]
  },
  {
   "cell_type": "code",
   "execution_count": 175,
   "metadata": {},
   "outputs": [],
   "source": [
    "email_button_xpath = r\"/html/body/div[2]/div[1]/div/div/div/div/div/div/div/div/div[2]/div[6]/button\"\n",
    "click_on_element_from_selector(By.XPATH, email_button_xpath, seconds=10)"
   ]
  },
  {
   "cell_type": "code",
   "execution_count": 176,
   "metadata": {},
   "outputs": [],
   "source": [
    "# The email text input is contained within an iframe that we have to switch into to get the content inside.\n",
    "email_iframe_xpath = r\"/html/body/div[13]/div/div/iframe\"\n",
    "email_iframe_element = wait_for_element(By.XPATH, email_iframe_xpath, seconds=10)\n",
    "driver.switch_to.frame(email_iframe_element)"
   ]
  },
  {
   "cell_type": "code",
   "execution_count": 177,
   "metadata": {},
   "outputs": [],
   "source": [
    "email_input_xpath = r\"/html/body/div[1]/div[2]/div/div[1]/div[2]/div[2]/div[1]/input\"\n",
    "send_keys_to_element_from_selector(By.XPATH, email_input_xpath, \"email@gmail.com\", seconds=10)"
   ]
  },
  {
   "cell_type": "code",
   "execution_count": 178,
   "metadata": {
    "scrolled": true
   },
   "outputs": [],
   "source": [
    "email_submit_button_xpath = r\"/html/body/div[1]/div[2]/div/div[2]/div/div/button\"\n",
    "click_on_element_from_selector(By.XPATH, email_submit_button_xpath, seconds=10)"
   ]
  },
  {
   "cell_type": "code",
   "execution_count": 179,
   "metadata": {},
   "outputs": [],
   "source": [
    "first_name_input_xpath = r\"/html/body/div[1]/div[2]/div/div[1]/div[2]/div[3]/div[1]/input\"\n",
    "send_keys_to_element_from_selector(By.XPATH, first_name_input_xpath, \"asdfwer\", seconds=10)"
   ]
  },
  {
   "cell_type": "code",
   "execution_count": 180,
   "metadata": {},
   "outputs": [],
   "source": [
    "last_name_input_xpath = r\"/html/body/div[1]/div[2]/div/div[1]/div[2]/div[4]/div[1]/input\"\n",
    "send_keys_to_element_from_selector(By.XPATH, last_name_input_xpath, \"asdfwer\", seconds=10)"
   ]
  },
  {
   "cell_type": "code",
   "execution_count": 181,
   "metadata": {},
   "outputs": [],
   "source": [
    "birthdate_xpath = r\"/html/body/div[1]/div[2]/div/div[1]/div[2]/div[5]/div[1]/input\"\n",
    "send_keys_to_element_from_selector(By.XPATH, birthdate_xpath, \"10/10/2000\", seconds=10)"
   ]
  },
  {
   "cell_type": "code",
   "execution_count": 182,
   "metadata": {},
   "outputs": [],
   "source": [
    "zipcode_xpath = r\"/html/body/div[1]/div[2]/div/div[1]/div[2]/div[6]/div[1]/input\"\n",
    "send_keys_to_element_from_selector(By.XPATH, zipcode_xpath, \"07303\", seconds=10)"
   ]
  },
  {
   "cell_type": "code",
   "execution_count": 183,
   "metadata": {},
   "outputs": [],
   "source": [
    "submit_button_xpath = r\"/html/body/div[1]/div[2]/div/div[2]/div/div/button\"\n",
    "click_on_element_from_selector(By.XPATH, submit_button_xpath, seconds=10)"
   ]
  },
  {
   "cell_type": "markdown",
   "metadata": {},
   "source": [
    "### Getting pages"
   ]
  },
  {
   "cell_type": "code",
   "execution_count": 184,
   "metadata": {},
   "outputs": [],
   "source": [
    "def get_location_name_list():\n",
    "    selector = r\"//*[@id='jumpMenu']/ul\"\n",
    "    element = wait_for_element(By.XPATH, selector, seconds=10)\n",
    "    elements = element.find_elements_by_xpath(r\"./li\")\n",
    "    return elements"
   ]
  },
  {
   "cell_type": "code",
   "execution_count": 185,
   "metadata": {},
   "outputs": [],
   "source": [
    "def get_list_of_locations():\n",
    "    locations = get_location_name_list()\n",
    "    return [location.text for location in locations]\n",
    "        "
   ]
  },
  {
   "cell_type": "code",
   "execution_count": 188,
   "metadata": {},
   "outputs": [],
   "source": [
    "def check_for_sub_tours():\n",
    "    selector = r\"//*[@id='main']/div/div/div[3]/div[5]\"\n",
    "    \n",
    "    element = wait_for_element(By.XPATH, selector, seconds=10)\n",
    "    experience_element = element.find_elements_by_xpath(\"./div[2]/div[1]\")\n",
    "    if experience_element:\n",
    "        print(\"AHHHHHHHHHHHHHHHH\")"
   ]
  },
  {
   "cell_type": "code",
   "execution_count": 195,
   "metadata": {},
   "outputs": [
    {
     "name": "stdout",
     "output_type": "stream",
     "text": [
      "No subtour div\n"
     ]
    },
    {
     "ename": "Exception",
     "evalue": "Could not find the specified selector '//*[@id='accessible_version_button']' using 'xpath'",
     "output_type": "error",
     "traceback": [
      "\u001b[1;31m---------------------------------------------------------------------------\u001b[0m",
      "\u001b[1;31mTimeoutException\u001b[0m                          Traceback (most recent call last)",
      "\u001b[1;32m~\\AppData\\Local\\Temp/ipykernel_7660/3380963808.py\u001b[0m in \u001b[0;36mwait_for_element\u001b[1;34m(by_selector, selector, seconds)\u001b[0m\n\u001b[0;32m      9\u001b[0m     \u001b[1;32mtry\u001b[0m\u001b[1;33m:\u001b[0m\u001b[1;33m\u001b[0m\u001b[1;33m\u001b[0m\u001b[0m\n\u001b[1;32m---> 10\u001b[1;33m         item = WebDriverWait(driver, seconds).until(\n\u001b[0m\u001b[0;32m     11\u001b[0m             EC.presence_of_element_located((by_selector, selector)))\n",
      "\u001b[1;32m~\\anaconda3\\envs\\web-scraping\\lib\\site-packages\\selenium\\webdriver\\support\\wait.py\u001b[0m in \u001b[0;36muntil\u001b[1;34m(self, method, message)\u001b[0m\n\u001b[0;32m     79\u001b[0m                 \u001b[1;32mbreak\u001b[0m\u001b[1;33m\u001b[0m\u001b[1;33m\u001b[0m\u001b[0m\n\u001b[1;32m---> 80\u001b[1;33m         \u001b[1;32mraise\u001b[0m \u001b[0mTimeoutException\u001b[0m\u001b[1;33m(\u001b[0m\u001b[0mmessage\u001b[0m\u001b[1;33m,\u001b[0m \u001b[0mscreen\u001b[0m\u001b[1;33m,\u001b[0m \u001b[0mstacktrace\u001b[0m\u001b[1;33m)\u001b[0m\u001b[1;33m\u001b[0m\u001b[1;33m\u001b[0m\u001b[0m\n\u001b[0m\u001b[0;32m     81\u001b[0m \u001b[1;33m\u001b[0m\u001b[0m\n",
      "\u001b[1;31mTimeoutException\u001b[0m: Message: \n",
      "\nDuring handling of the above exception, another exception occurred:\n",
      "\u001b[1;31mException\u001b[0m                                 Traceback (most recent call last)",
      "\u001b[1;32m~\\AppData\\Local\\Temp/ipykernel_7660/950026105.py\u001b[0m in \u001b[0;36m<module>\u001b[1;34m\u001b[0m\n\u001b[0;32m      9\u001b[0m     \u001b[1;32mexcept\u001b[0m \u001b[0mException\u001b[0m\u001b[1;33m:\u001b[0m\u001b[1;33m\u001b[0m\u001b[1;33m\u001b[0m\u001b[0m\n\u001b[0;32m     10\u001b[0m         \u001b[0mprint\u001b[0m\u001b[1;33m(\u001b[0m\u001b[1;34m\"No subtour div\"\u001b[0m\u001b[1;33m)\u001b[0m\u001b[1;33m\u001b[0m\u001b[1;33m\u001b[0m\u001b[0m\n\u001b[1;32m---> 11\u001b[1;33m     \u001b[0mclick_on_element_from_selector\u001b[0m\u001b[1;33m(\u001b[0m\u001b[0mBy\u001b[0m\u001b[1;33m.\u001b[0m\u001b[0mXPATH\u001b[0m\u001b[1;33m,\u001b[0m \u001b[0maccessibility_link_xpath\u001b[0m\u001b[1;33m,\u001b[0m \u001b[0mseconds\u001b[0m\u001b[1;33m=\u001b[0m\u001b[1;36m15\u001b[0m\u001b[1;33m)\u001b[0m\u001b[1;33m\u001b[0m\u001b[1;33m\u001b[0m\u001b[0m\n\u001b[0m\u001b[0;32m     12\u001b[0m \u001b[1;31m#     get_list_of_locations()\u001b[0m\u001b[1;33m\u001b[0m\u001b[1;33m\u001b[0m\u001b[1;33m\u001b[0m\u001b[0m\n",
      "\u001b[1;32m~\\AppData\\Local\\Temp/ipykernel_7660/4215146669.py\u001b[0m in \u001b[0;36mclick_on_element_from_selector\u001b[1;34m(by_selector, selector, seconds)\u001b[0m\n\u001b[0;32m      7\u001b[0m     \u001b[1;33m:\u001b[0m\u001b[0mparam\u001b[0m\u001b[1;33m:\u001b[0m \u001b[0mseconds\u001b[0m \u001b[0mHow\u001b[0m \u001b[0mlong\u001b[0m \u001b[0mto\u001b[0m \u001b[0mwait\u001b[0m \u001b[0muntil\u001b[0m \u001b[0ma\u001b[0m \u001b[0mtimeout\u001b[0m \u001b[1;32mis\u001b[0m \u001b[0mthrown\u001b[0m\u001b[1;33m.\u001b[0m\u001b[1;33m\u001b[0m\u001b[1;33m\u001b[0m\u001b[0m\n\u001b[0;32m      8\u001b[0m     \"\"\"\n\u001b[1;32m----> 9\u001b[1;33m     \u001b[0melement\u001b[0m \u001b[1;33m=\u001b[0m \u001b[0mwait_for_element\u001b[0m\u001b[1;33m(\u001b[0m\u001b[0mby_selector\u001b[0m\u001b[1;33m,\u001b[0m \u001b[0mselector\u001b[0m\u001b[1;33m,\u001b[0m \u001b[0mseconds\u001b[0m\u001b[1;33m=\u001b[0m\u001b[1;36m10\u001b[0m\u001b[1;33m)\u001b[0m\u001b[1;33m\u001b[0m\u001b[1;33m\u001b[0m\u001b[0m\n\u001b[0m\u001b[0;32m     10\u001b[0m     \u001b[0melement\u001b[0m\u001b[1;33m.\u001b[0m\u001b[0mclick\u001b[0m\u001b[1;33m(\u001b[0m\u001b[1;33m)\u001b[0m\u001b[1;33m\u001b[0m\u001b[1;33m\u001b[0m\u001b[0m\n",
      "\u001b[1;32m~\\AppData\\Local\\Temp/ipykernel_7660/3380963808.py\u001b[0m in \u001b[0;36mwait_for_element\u001b[1;34m(by_selector, selector, seconds)\u001b[0m\n\u001b[0;32m     11\u001b[0m             EC.presence_of_element_located((by_selector, selector)))\n\u001b[0;32m     12\u001b[0m     \u001b[1;32mexcept\u001b[0m \u001b[0mException\u001b[0m\u001b[1;33m:\u001b[0m\u001b[1;33m\u001b[0m\u001b[1;33m\u001b[0m\u001b[0m\n\u001b[1;32m---> 13\u001b[1;33m         \u001b[1;32mraise\u001b[0m \u001b[0mException\u001b[0m\u001b[1;33m(\u001b[0m\u001b[1;34m\"Could not find the specified selector '{}' using '{}'\"\u001b[0m\u001b[1;33m.\u001b[0m\u001b[0mformat\u001b[0m\u001b[1;33m(\u001b[0m\u001b[0mselector\u001b[0m\u001b[1;33m,\u001b[0m \u001b[0mby_selector\u001b[0m\u001b[1;33m)\u001b[0m\u001b[1;33m)\u001b[0m\u001b[1;33m\u001b[0m\u001b[1;33m\u001b[0m\u001b[0m\n\u001b[0m\u001b[0;32m     14\u001b[0m \u001b[1;33m\u001b[0m\u001b[0m\n\u001b[0;32m     15\u001b[0m     \u001b[1;32mreturn\u001b[0m \u001b[0mitem\u001b[0m\u001b[1;33m\u001b[0m\u001b[1;33m\u001b[0m\u001b[0m\n",
      "\u001b[1;31mException\u001b[0m: Could not find the specified selector '//*[@id='accessible_version_button']' using 'xpath'"
     ]
    }
   ],
   "source": [
    "accessibility_link_xpath = r\"//*[@id='accessible_version_button']\"\n",
    "\n",
    "\n",
    "for id_no in univeristy_ids[3:]:\n",
    "    link = r\"https://www.youvisit.com/tour/{}?fromSearch=1&&wph=1&skipPrompt=1&fromSearch=1\".format(id_no)\n",
    "    driver.get(link)\n",
    "    try:\n",
    "        check_for_sub_tours()\n",
    "    except Exception:\n",
    "        print(\"No subtour div\")\n",
    "    click_on_element_from_selector(By.XPATH, accessibility_link_xpath, seconds=15)\n",
    "#     get_list_of_locations()"
   ]
  },
  {
   "cell_type": "code",
   "execution_count": null,
   "metadata": {},
   "outputs": [],
   "source": []
  }
 ],
 "metadata": {
  "kernelspec": {
   "display_name": "Python [conda env:web-scraping]",
   "language": "python",
   "name": "conda-env-web-scraping-py"
  },
  "language_info": {
   "codemirror_mode": {
    "name": "ipython",
    "version": 3
   },
   "file_extension": ".py",
   "mimetype": "text/x-python",
   "name": "python",
   "nbconvert_exporter": "python",
   "pygments_lexer": "ipython3",
   "version": "3.8.12"
  }
 },
 "nbformat": 4,
 "nbformat_minor": 4
}
