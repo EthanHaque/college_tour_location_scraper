{
 "cells": [
  {
   "cell_type": "markdown",
   "metadata": {},
   "source": [
    "# College Tour Information Scraper\n",
    "\n",
    "Gathers information from the https://www.youvisit.com/collegesearch/ website\n",
    "\n"
   ]
  },
  {
   "cell_type": "code",
   "execution_count": 49,
   "metadata": {},
   "outputs": [],
   "source": [
    "from selenium import webdriver\n",
    "from selenium.webdriver.common.by import By\n",
    "from selenium.webdriver.support.ui import WebDriverWait\n",
    "from selenium.webdriver.support import expected_conditions as EC\n",
    "from selenium.webdriver.common.keys import Keys"
   ]
  },
  {
   "cell_type": "code",
   "execution_count": 50,
   "metadata": {},
   "outputs": [],
   "source": [
    "DRIVER_PATH = \"./chromedriver\"\n",
    "WEBSITE_URL = \"https://www.youvisit.com/collegesearch/\""
   ]
  },
  {
   "cell_type": "code",
   "execution_count": 51,
   "metadata": {},
   "outputs": [],
   "source": [
    "def wait_for_element(by_selector, selector, seconds=10):\n",
    "    \"\"\"\n",
    "    Takes in a selector type and a selector and waits for the element to load on the page.\n",
    "    \n",
    "    :param: by_selector The method to use for selecting.\n",
    "    :param: selector The string selector to use.\n",
    "    :param: seconds How long to wait until a timeout is thrown.\n",
    "    \"\"\"\n",
    "    try:\n",
    "        item = WebDriverWait(driver, seconds).until(\n",
    "            EC.presence_of_element_located((by_selector, selector)))\n",
    "    except Exception:\n",
    "        raise Exception(\"Could not find the specified selector '{}' using '{}'\".format(selector, by_selector))\n",
    "        \n",
    "    return item"
   ]
  },
  {
   "cell_type": "code",
   "execution_count": 52,
   "metadata": {},
   "outputs": [],
   "source": [
    "def click_on_element_from_selector(by_selector, selector, seconds=10):\n",
    "    \"\"\"\n",
    "    Helper function to take a element and click on it.\n",
    "    \n",
    "    :param: by_selector The method to use for selecting.\n",
    "    :param: selector The string selector to use.\n",
    "    :param: seconds How long to wait until a timeout is thrown.\n",
    "    \"\"\"\n",
    "    element = wait_for_element(by_selector, selector, seconds=10)\n",
    "    element.click()"
   ]
  },
  {
   "cell_type": "code",
   "execution_count": 53,
   "metadata": {},
   "outputs": [],
   "source": [
    "def send_keys_to_element_from_selector(by_selector, selector, text, seconds=10):\n",
    "    \"\"\"\n",
    "    Helper funciton to take an element and send it key inputs.\n",
    "    \n",
    "    :param: by_selector The method to use for selecting.\n",
    "    :param: selector The string selector to use.\n",
    "    :param: text The string to send as input.\n",
    "    :param: seconds How long to wait until a timeout is thrown.\n",
    "    \"\"\"\n",
    "    element = wait_for_element(by_selector, selector, seconds=10)\n",
    "    element.send_keys(text)"
   ]
  },
  {
   "cell_type": "code",
   "execution_count": 54,
   "metadata": {},
   "outputs": [],
   "source": [
    "driver = webdriver.Chrome(DRIVER_PATH)\n",
    "driver.get(WEBSITE_URL)\n",
    "account_button_xpath = r\"//*[@id='yv.com-cs-root']/div[1]/div[2]/div[1]/div[2]/button\"\n",
    "click_on_element_from_selector(By.XPATH, account_button_xpath, seconds=10)"
   ]
  },
  {
   "cell_type": "code",
   "execution_count": 55,
   "metadata": {},
   "outputs": [],
   "source": [
    "email_button_xpath = r\"/html/body/div[2]/div[1]/div/div/div/div/div/div/div/div/div[2]/div[6]/button\"\n",
    "click_on_element_from_selector(By.XPATH, email_button_xpath, seconds=10)"
   ]
  },
  {
   "cell_type": "code",
   "execution_count": 56,
   "metadata": {},
   "outputs": [],
   "source": [
    "# The email text input is contained within an iframe that we have to switch into to get the content inside.\n",
    "email_iframe_xpath = r\"/html/body/div[13]/div/div/iframe\"\n",
    "email_iframe_element = wait_for_element(By.XPATH, email_iframe_xpath, seconds=10)\n",
    "driver.switch_to.frame(email_iframe_element)"
   ]
  },
  {
   "cell_type": "code",
   "execution_count": 57,
   "metadata": {},
   "outputs": [],
   "source": [
    "email_input_xpath = r\"/html/body/div[1]/div[2]/div/div[1]/div[2]/div[2]/div[1]/input\"\n",
    "send_keys_to_element_from_selector(By.XPATH, email_input_xpath, \"email@gmail.com\", seconds=10)"
   ]
  },
  {
   "cell_type": "code",
   "execution_count": 58,
   "metadata": {
    "scrolled": true
   },
   "outputs": [],
   "source": [
    "email_submit_button_xpath = r\"/html/body/div[1]/div[2]/div/div[2]/div/div/button\"\n",
    "click_on_element_from_selector(By.XPATH, email_submit_button_xpath, seconds=10)"
   ]
  },
  {
   "cell_type": "code",
   "execution_count": 59,
   "metadata": {},
   "outputs": [],
   "source": [
    "first_name_input_xpath = r\"/html/body/div[1]/div[2]/div/div[1]/div[2]/div[3]/div[1]/input\"\n",
    "send_keys_to_element_from_selector(By.XPATH, first_name_input_xpath, \"asdfwer\", seconds=10)"
   ]
  },
  {
   "cell_type": "code",
   "execution_count": 60,
   "metadata": {},
   "outputs": [],
   "source": [
    "last_name_input_xpath = r\"/html/body/div[1]/div[2]/div/div[1]/div[2]/div[4]/div[1]/input\"\n",
    "send_keys_to_element_from_selector(By.XPATH, last_name_input_xpath, \"asdfwer\", seconds=10)"
   ]
  },
  {
   "cell_type": "code",
   "execution_count": 63,
   "metadata": {},
   "outputs": [],
   "source": [
    "birthdate_xpath = r\"/html/body/div[1]/div[2]/div/div[1]/div[2]/div[5]/div[1]/input\"\n",
    "send_keys_to_element_from_selector(By.XPATH, birthdate_xpath, \"10/10/2000\", seconds=10)"
   ]
  },
  {
   "cell_type": "code",
   "execution_count": 64,
   "metadata": {},
   "outputs": [],
   "source": [
    "zipcode_xpath = r\"/html/body/div[1]/div[2]/div/div[1]/div[2]/div[6]/div[1]/input\"\n",
    "send_keys_to_element_from_selector(By.XPATH, zipcode_xpath, \"07303\", seconds=10)"
   ]
  },
  {
   "cell_type": "code",
   "execution_count": 65,
   "metadata": {},
   "outputs": [],
   "source": [
    "submit_button_xpath = r\"/html/body/div[1]/div[2]/div/div[2]/div/div/button\"\n",
    "click_on_element_from_selector(By.XPATH, submit_button_xpath, seconds=10)"
   ]
  },
  {
   "cell_type": "code",
   "execution_count": null,
   "metadata": {},
   "outputs": [],
   "source": []
  }
 ],
 "metadata": {
  "kernelspec": {
   "display_name": "Python [conda env:web-scraping]",
   "language": "python",
   "name": "conda-env-web-scraping-py"
  },
  "language_info": {
   "codemirror_mode": {
    "name": "ipython",
    "version": 3
   },
   "file_extension": ".py",
   "mimetype": "text/x-python",
   "name": "python",
   "nbconvert_exporter": "python",
   "pygments_lexer": "ipython3",
   "version": "3.8.12"
  }
 },
 "nbformat": 4,
 "nbformat_minor": 4
}
