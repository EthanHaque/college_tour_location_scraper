{
 "cells": [
  {
   "cell_type": "markdown",
   "metadata": {},
   "source": [
    "# College Tour Information Scraper\n",
    "\n",
    "Gathers information from the https://www.youvisit.com/collegesearch/ website\n",
    "\n",
    "Contact:\n",
    "Ethan Haque (ethanhaque@princeton.edu)"
   ]
  },
  {
   "cell_type": "code",
   "execution_count": 32,
   "metadata": {},
   "outputs": [],
   "source": [
    "import requests\n",
    "import json\n",
    "import math\n",
    "import pandas as pd\n",
    "from bs4 import BeautifulSoup as bs"
   ]
  },
  {
   "cell_type": "markdown",
   "metadata": {},
   "source": [
    "### Gathering All Institution Ids\n",
    "\n",
    "We can get the ids for each school by exploting open api endpoints. These ids give us part of what we need to get the information contained in the tours."
   ]
  },
  {
   "cell_type": "code",
   "execution_count": 33,
   "metadata": {},
   "outputs": [],
   "source": [
    "header = {'User-Agent': 'Mozilla/5.0 (Macintosh; Intel Mac OS X 10_10_1) AppleWebKit/537.36 (KHTML, like Gecko) Chrome/a39.0.2171.95 Safari/537.36'}\n",
    "link = \"https://search.youvisit.com/institution-profiles\""
   ]
  },
  {
   "cell_type": "code",
   "execution_count": 34,
   "metadata": {},
   "outputs": [],
   "source": [
    "response = requests.get(link, headers=header)"
   ]
  },
  {
   "cell_type": "code",
   "execution_count": 35,
   "metadata": {},
   "outputs": [],
   "source": [
    "TOTAL_RECORDS = 8264 # this may change but hard coding it and changing in the future is easy\n",
    "RECORDS_PER_PAGE = 100\n",
    "TOTAL_PAGES = math.ceil(TOTAL_RECORDS / RECORDS_PER_PAGE)"
   ]
  },
  {
   "cell_type": "code",
   "execution_count": 44,
   "metadata": {},
   "outputs": [],
   "source": [
    "data = []\n",
    "# getting all the institution ids along with some other useful information\n",
    "for page_no in range(TOTAL_PAGES):\n",
    "    institution_profiles = requests.get(\"{}?size={}&page={}\".format(link, RECORDS_PER_PAGE, page_no), headers=header)\n",
    "    json_data = json.loads(institution_profiles.text)\n",
    "    for record in json_data[\"data\"][\"records\"]:\n",
    "        if record[\"has_virtual_tour\"]:\n",
    "            institution_id = record[\"inst_id\"]\n",
    "            institution_name = record[\"name\"]\n",
    "            institution_url = record[\"url\"]\n",
    "            data.append([institution_id, institution_name, institution_url])"
   ]
  },
  {
   "cell_type": "code",
   "execution_count": 51,
   "metadata": {},
   "outputs": [],
   "source": [
    "institution_dataframe = pd.DataFrame(data, columns = [\"institution-id\", \"institution-name\", \"institution-url\"])"
   ]
  },
  {
   "cell_type": "markdown",
   "metadata": {},
   "source": [
    "### Gathering Tour Information\n",
    "\n",
    "Using the previously gathered institution ids, we can exploit another open api endpoint to get the information contained within the tours themselves."
   ]
  },
  {
   "cell_type": "code",
   "execution_count": 90,
   "metadata": {},
   "outputs": [],
   "source": [
    "link = \"https://api.youvisit.com/v1.2/institutions\""
   ]
  },
  {
   "cell_type": "code",
   "execution_count": 127,
   "metadata": {},
   "outputs": [],
   "source": [
    "# getting the tours avaliable for each institution\n",
    "data = []\n",
    "for index, row in institution_dataframe.iterrows():\n",
    "    tour_info = requests.get(\"{}/{}\".format(link, row[\"institution-id\"]), headers=header)\n",
    "    json_data = json.loads(tour_info.text)\n",
    "    for location in json_data[\"data\"][0][\"locations\"]:\n",
    "        location_id = location[\"loc_id\"]\n",
    "        location_name = location[\"name\"]\n",
    "        institution_id = row[\"institution-id\"]\n",
    "        institution_name = row[\"institution-name\"]\n",
    "        institution_url = row[\"institution-url\"]\n",
    "        data.append([location_id, location_name, institution_id, institution_name, institution_url])"
   ]
  },
  {
   "cell_type": "code",
   "execution_count": 128,
   "metadata": {},
   "outputs": [],
   "source": [
    "stops_dataframe = pd.DataFrame(data, columns = [\"location-id\", \n",
    "                                                \"location-name\", \n",
    "                                                \"institution-id\", \n",
    "                                                \"institution-name\", \n",
    "                                                \"institution-url\"])"
   ]
  },
  {
   "cell_type": "markdown",
   "metadata": {},
   "source": [
    "### Gathering Stops on Tours\n",
    "\n",
    "By tweaking the earlier api call we can get out the stops information from the webserver."
   ]
  },
  {
   "cell_type": "code",
   "execution_count": 137,
   "metadata": {},
   "outputs": [],
   "source": [
    "link_end = \"stops?expand=all&allowInProgress=locations,tours&limit=1000&env=www\"\n",
    "stops_info = requests.get(\"{}/{}/locations/{}/{}\".format(link, 60018, 80314, link_end), headers=header)"
   ]
  },
  {
   "cell_type": "code",
   "execution_count": 145,
   "metadata": {},
   "outputs": [],
   "source": [
    "# getting the locations for each individual tour\n",
    "data = []\n",
    "for index, row in stops_dataframe.iterrows():\n",
    "    stops_info = requests.get(\"{}/{}/locations/{}/{}\".format(link, \n",
    "                                                             row[\"institution-id\"], \n",
    "                                                             row[\"location-id\"], \n",
    "                                                             link_end), \n",
    "                                                    headers=header)\n",
    "    \n",
    "    stops_data = json.loads(stops_info.text)\n",
    "    data.append([key[\"title\"] for key in stops_data[\"data\"]]) # getting the name of all the stops from in the tour."
   ]
  },
  {
   "cell_type": "code",
   "execution_count": 147,
   "metadata": {},
   "outputs": [],
   "source": [
    "stops_dataframe[\"stops\"] = data"
   ]
  },
  {
   "cell_type": "code",
   "execution_count": 152,
   "metadata": {},
   "outputs": [],
   "source": [
    "stops_dataframe.to_csv(\"./data/stops-info.csv\", sep=\"\\t\", encoding=\"utf-8\")"
   ]
  }
 ],
 "metadata": {
  "kernelspec": {
   "display_name": "Python [conda env:web-scraping]",
   "language": "python",
   "name": "conda-env-web-scraping-py"
  },
  "language_info": {
   "codemirror_mode": {
    "name": "ipython",
    "version": 3
   },
   "file_extension": ".py",
   "mimetype": "text/x-python",
   "name": "python",
   "nbconvert_exporter": "python",
   "pygments_lexer": "ipython3",
   "version": "3.8.12"
  }
 },
 "nbformat": 4,
 "nbformat_minor": 4
}
